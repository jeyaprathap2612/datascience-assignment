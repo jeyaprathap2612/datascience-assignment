{
 "cells": [
  {
   "cell_type": "code",
   "execution_count": 15,
   "id": "379ea5df",
   "metadata": {},
   "outputs": [],
   "source": [
    "w1, w2, w3 = 0.3, 0.2, 0.5\n"
   ]
  },
  {
   "cell_type": "code",
   "execution_count": 16,
   "id": "aa78a428",
   "metadata": {
    "scrolled": true
   },
   "outputs": [
    {
     "name": "stdout",
     "output_type": "stream",
     "text": [
      "0.3\n"
     ]
    }
   ],
   "source": [
    "print(w1)"
   ]
  },
  {
   "cell_type": "code",
   "execution_count": 42,
   "id": "c5600f63",
   "metadata": {},
   "outputs": [],
   "source": [
    "import numpy as np\n"
   ]
  },
  {
   "cell_type": "code",
   "execution_count": 65,
   "id": "7d044476",
   "metadata": {},
   "outputs": [],
   "source": [
    "files = ['cd1.csv', 'climate_data_station2.csv', 'climate_data_station3.csv',\n",
    "              'climate_data_station4.csv', 'climate_data_station5.csv', 'climate_data_station6.csv',\n",
    "              'climate_data_station7.csv', 'climate_data_station8.csv', 'climate_data_station9.csv',\n",
    "              'climate_data_station10.csv']"
   ]
  },
  {
   "cell_type": "code",
   "execution_count": 66,
   "id": "75952644",
   "metadata": {},
   "outputs": [],
   "source": [
    "w1, w2, w3 = 0.3, 0.2, 0.5"
   ]
  },
  {
   "cell_type": "code",
   "execution_count": 64,
   "id": "954e8b0e",
   "metadata": {},
   "outputs": [],
   "source": [
    "result = []\n",
    "for file in files:\n",
    "    data = np.genfromtxt(file, delimiter=',')\n",
    "    yield_of_corp = w1 *data[:, 0] + w2 * data[:, 1] + w3 *data[:, 2]\n",
    "    data = np.column_stack((data, yield_of_corp))\n",
    "    result.append(data)\n",
    "    \n",
    "result = np.concatenate(result, axis=0)\n",
    "np.savetxt('finalresult.csv', result, delimiter=',', fmt='%0.2f')"
   ]
  }
 ],
 "metadata": {
  "kernelspec": {
   "display_name": "Python 3 (ipykernel)",
   "language": "python",
   "name": "python3"
  },
  "language_info": {
   "codemirror_mode": {
    "name": "ipython",
    "version": 3
   },
   "file_extension": ".py",
   "mimetype": "text/x-python",
   "name": "python",
   "nbconvert_exporter": "python",
   "pygments_lexer": "ipython3",
   "version": "3.9.12"
  }
 },
 "nbformat": 4,
 "nbformat_minor": 5
}
